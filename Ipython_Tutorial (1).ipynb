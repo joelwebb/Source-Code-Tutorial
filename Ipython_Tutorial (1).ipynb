{
  "nbformat": 4,
  "nbformat_minor": 0,
  "metadata": {
    "colab": {
      "name": "Ipython Tutorial.ipynb",
      "provenance": [],
      "collapsed_sections": [],
      "toc_visible": true
    },
    "kernelspec": {
      "name": "python3",
      "display_name": "Python 3"
    }
  },
  "cells": [
    {
      "cell_type": "markdown",
      "metadata": {
        "id": "BYDGBdQVxGr0",
        "colab_type": "text"
      },
      "source": [
        "# Welcome to the BI Python Sequence Tutorial!"
      ]
    },
    {
      "cell_type": "markdown",
      "metadata": {
        "id": "k_g5zu0fx2ez",
        "colab_type": "text"
      },
      "source": [
        "In this tutorial, we are going to go over some command line basics and use google colaboratory to run python code in the cloud. We will also go over downloading files from Github, processing sequencing samples and installing python packages. Before we dive right in, I wanted to provide you with a little background information about google colab and describe why we want to use some type of jupyter service to run our code. Then there is a short description on the sequence file formats, followed by a list of several unix commands that will come in handy during the tutorial."
      ]
    },
    {
      "cell_type": "markdown",
      "metadata": {
        "id": "bDCcgmOHwvf0",
        "colab_type": "text"
      },
      "source": [
        "# What is Google Colaboratory?\n",
        "Colaboratory, or “Colab” for short, is a product from Google Research. Colab allows anybody to write and execute arbitrary python code through the browser, and is especially well suited to machine learning, data analysis and education. More technically, Colab is a hosted Jupyter notebook service that requires no setup to use, while providing free access to computing resources including GPUs. The most important feature that distinguishes Colab from other free cloud services is; Colab provides access to free Tesla K80 GPUs and comes with several python packages pre-installed!\n",
        "Now you can develop deep learning applications at your fingertips with no cost to you or in our case, learn how to effectively use python to process sequencing samples! If you would like to use Jupyter notebooks for your own projects, some advice on best practices can be found here: https://towardsdatascience.com/jupyter-notebook-best-practices-f430a6ba8c69"
      ]
    },
    {
      "cell_type": "markdown",
      "metadata": {
        "id": "Xpgcsij9wvjX",
        "colab_type": "text"
      },
      "source": [
        "# Sequencing File Formats\n",
        "Just make sure everyone is on the same page about the format of the files we will be working with, lets talk about sequencing file formats briefly.\n",
        "\n",
        "* The FASTQ format is used with sequencing files to include a numeric quality score to each base in the sequence. The FASTQ format is widely used to store high-throughput sequencing data, which is reported with a per-base quality score indicating the confidence of each base call. Unfortunately, FASTQ has variants and pitfalls that can make the seemingly simple format frustrating to work with. \n",
        "\n",
        "An Example FASTQ format looks like: \n",
        "\n",
        "@DJB775P1:248:D0MDGACXX:7:1202:12782:49716 \n",
        "\n",
        "CTCTGCGTTGATACCACTGCTTACTCTGCGTTGATACCACTGCTTAGATCGG \n",
        "\n",
        "\\+ \n",
        "\n",
        "IIIIIIIIIIIIIIIHHHHHHFFFFFFEECCCCBCECCCCCCCCCCCCCCCC \n",
        "\n",
        "* The description line, beginning with @. This contains the record identifier and other information. Sequence data, which can be on one or many lines. The line beginning with +, following the sequence line(s) indicates the end of the sequence. In older FASTQ files, it was common to repeat the description line here, but this is redundant and leads to unnecessarily large FASTQ files. The quality data, which can also be on one or many lines, but must be the same length as the sequence. Each numeric base quality is encoded with ASCII characters. This will be important later if you are not familiar with these types of files. \n",
        "\n"
      ]
    },
    {
      "cell_type": "markdown",
      "metadata": {
        "id": "ZxOYUjUPz1Pm",
        "colab_type": "text"
      },
      "source": [
        "# Working with the command prompt\n",
        "Normally on your local computer, you would need to open the terminal to begin.While in the cloud using colab, we are actually running a linux computer so it will be useful to learn a few simple unix commands to help you navigate the environment.\n",
        "\n",
        "* **pwd** --- pwd is the command to tell you the present working directory. Running this command should show you the current folder that you are working in.\n",
        "\n",
        "*\t**ls** --- the ls command stands for list, and will list any files and folders in your current directory.\n",
        "\n",
        "* **cd** --- cd stands for change directory. You can use this command to move into folders. A special version of this command using periods like this: cd .. will move you up one folder. In programming, two periods in a row means “up one folder”\n",
        "\n",
        "*\t**head** --- this command will show you the “head” of a file. By default, it will print out the first 10 lines of your file. \n",
        "\n",
        "* **tail** --- this command will show you the “tail” of a file. By default, it will print out the last 10 lines of your file. \n",
        "\n",
        "* **curl** --- the curl command will let you download a file using a url or website address. \n",
        "\n",
        "* **tar** --- The tar command is used to package and unpackage tarball files. Think of this like creating a zipped folder. Tar works the same way on linux systems for packaging files/folders together into a single file, which then must be unpacked.\n",
        "\n",
        "* **gzip** --- the gzip command works to zip a folder or file, compressing it into a smaller folder/file. The resulting file will have the file extension of “.gz”\n",
        "\n",
        "* **gunzip** --- gunzip performs the opposite action of gzip to unzip a gz file back to a regular uncompressed file type.\n",
        "\n",
        "* **unzip** --- similar to gunzip, this unzips a file that was compressed with the traditional zipping algorithm common on windows. \n",
        "* **rm** --- this command stands for remove and allows you to delete a file or folder. There is no way to retrieve a file once it is deleted using the command line! \n",
        "\n",
        "* **nano** --- this is a simple text editor that will allow you to alter files from the command line. \n",
        "\n",
        "For each of these commands, you can find more information on google by searching “[name of command] bash examples”. Now lets get started! \n"
      ]
    },
    {
      "cell_type": "markdown",
      "metadata": {
        "id": "yFdybExA37ns",
        "colab_type": "text"
      },
      "source": [
        "# How to run code on colab\n",
        "\n",
        "In this tutorial, code will be provided in the text boxes here and can be typed into the code block below. To run the python code, press enter and you should see output below the cell, like in this example!\n",
        "\n",
        "    this is example code\n",
        "    Use this as a reference for what you run in the box below\n",
        "\n",
        "    \n"
      ]
    },
    {
      "cell_type": "code",
      "metadata": {
        "id": "tfApxvU237EX",
        "colab_type": "code",
        "colab": {}
      },
      "source": [
        "i_am_a_variable = 5\n",
        "\n",
        "second_variable = 10\n",
        "\n",
        "print(\"This is the output. The answer is: \", i_am_a_variable + second_variable)\n"
      ],
      "execution_count": null,
      "outputs": []
    },
    {
      "cell_type": "markdown",
      "metadata": {
        "id": "KrMeuh7c4iFG",
        "colab_type": "text"
      },
      "source": [
        "# Using linux commands\n",
        "If we want to use linux commands in the notebook, we need to first type an exclamation point before the command to tell the colab notebook that we are running a command from the command line, not from inside of the jupyter notebook. Try a running the linux command list like this in the box below:\n",
        "\n",
        "    !ls"
      ]
    },
    {
      "cell_type": "code",
      "metadata": {
        "id": "I51Jid3Z4iUY",
        "colab_type": "code",
        "colab": {}
      },
      "source": [
        ""
      ],
      "execution_count": null,
      "outputs": []
    },
    {
      "cell_type": "markdown",
      "metadata": {
        "id": "eajXWPqR3Zy8",
        "colab_type": "text"
      },
      "source": [
        "#Making Files & Intro to Python\n",
        "To start with, lets download the project folder from github to our colab notebook using the linux git clone command. Throughout this tutorial, there will be code blocks that you can use to type the commands. We can begin by using the git pull as follows: \n",
        "\n",
        "    !git clone https://github.com/joelwebb/Source-Code-Tutorial"
      ]
    },
    {
      "cell_type": "code",
      "metadata": {
        "id": "c9kc0dtfsG7y",
        "colab_type": "code",
        "colab": {}
      },
      "source": [
        ""
      ],
      "execution_count": null,
      "outputs": []
    },
    {
      "cell_type": "markdown",
      "metadata": {
        "id": "w_oUecrp6sBB",
        "colab_type": "text"
      },
      "source": [
        "To check where we are at, lets run the pwd command below:\n",
        "\n",
        "    !pwd\n"
      ]
    },
    {
      "cell_type": "code",
      "metadata": {
        "id": "S618CegG6sKp",
        "colab_type": "code",
        "colab": {}
      },
      "source": [
        ""
      ],
      "execution_count": null,
      "outputs": []
    },
    {
      "cell_type": "markdown",
      "metadata": {
        "id": "HXNQHbm07EOk",
        "colab_type": "text"
      },
      "source": [
        "Here we can see we are in the content folder on our cloud computer. Lets print all the files and folders in our current director using the ls command.\n",
        "\n",
        "    !ls"
      ]
    },
    {
      "cell_type": "code",
      "metadata": {
        "id": "BHtzekwR7L3H",
        "colab_type": "code",
        "colab": {}
      },
      "source": [
        ""
      ],
      "execution_count": null,
      "outputs": []
    },
    {
      "cell_type": "markdown",
      "metadata": {
        "id": "87v77OMswK-9",
        "colab_type": "text"
      },
      "source": [
        "If you don't have the git package installed, you can also use the linux curl command to download a zipped folder from Github using the following example command.\n",
        "\n",
        "    !curl -LkSs https://github.com/joelwebb/Source-Code-Tutorial/archive/master.zip -o master.tar.gz\n",
        "\n",
        "\n",
        "This command will download a ziped tarball file that contains everything you need to do the tutorial! go ahead and type the command below followed by the ls command to make sure you downloaded the file.\n"
      ]
    },
    {
      "cell_type": "code",
      "metadata": {
        "id": "SYuEpnFWwLJg",
        "colab_type": "code",
        "colab": {}
      },
      "source": [
        ""
      ],
      "execution_count": null,
      "outputs": []
    },
    {
      "cell_type": "markdown",
      "metadata": {
        "id": "FVr3zx9k-aEy",
        "colab_type": "text"
      },
      "source": [
        "Next, let us use the unzipping utility from the example commands above to unzip the folder as follows:\n",
        "\n",
        "    !unzip master.tar.gz\n"
      ]
    },
    {
      "cell_type": "code",
      "metadata": {
        "id": "UTs3T5g9-aMO",
        "colab_type": "code",
        "colab": {}
      },
      "source": [
        ""
      ],
      "execution_count": null,
      "outputs": []
    },
    {
      "cell_type": "markdown",
      "metadata": {
        "id": "ttjaC79f-aVZ",
        "colab_type": "text"
      },
      "source": [
        "While both of these methods work to download files, it will be useful for the future to know how to download projects directly from github and also from any website online using the curl command. Since we don't need two copies of these folders, lets use the linux rm command to remove the folder that we don't need.\n",
        "\n",
        "    !rm -r Source-Code-Tutorial-master master.tar.gz\n",
        "\n",
        "The rm command will work with a file, or if we use the -r option, it works recursively. Meaning, it will delete all the files and folders inside of the folder. Be careful deleting on the command line because once a file is lost, it is gone forever!\n"
      ]
    },
    {
      "cell_type": "code",
      "metadata": {
        "id": "35ZXOjWY-ad8",
        "colab_type": "code",
        "colab": {}
      },
      "source": [
        ""
      ],
      "execution_count": null,
      "outputs": []
    },
    {
      "cell_type": "markdown",
      "metadata": {
        "id": "ZfwcjF2qwKHD",
        "colab_type": "text"
      },
      "source": [
        "To move into our folder we downloaded, we could use the linux command cd command to change directories... But hey, this is a python course, right! Lets change folders using python!\n",
        "\n",
        "First we need to import the os package (importing packages only need to be done once), and then use the function os.chdir(\"name of the directory\") --- try it with this command below:\n",
        "\n",
        "    import os\n",
        "\n",
        "    os.chdir(\"Source-Code-Tutorial\")"
      ]
    },
    {
      "cell_type": "code",
      "metadata": {
        "id": "OZ5wDupAwJjX",
        "colab_type": "code",
        "colab": {}
      },
      "source": [
        ""
      ],
      "execution_count": null,
      "outputs": []
    },
    {
      "cell_type": "markdown",
      "metadata": {
        "id": "ZSvtpdo6wLkQ",
        "colab_type": "text"
      },
      "source": [
        "To check that we moved into the folder, we could run the linux pwd command \n",
        "\n",
        "Or using python we can print the current working directory using this command:\n",
        "\n",
        "\n",
        "    print(os.getcwd())"
      ]
    },
    {
      "cell_type": "code",
      "metadata": {
        "id": "FZ-kinJjSgmV",
        "colab_type": "code",
        "colab": {}
      },
      "source": [
        ""
      ],
      "execution_count": null,
      "outputs": []
    },
    {
      "cell_type": "markdown",
      "metadata": {
        "id": "iCfBsNt_Sg3V",
        "colab_type": "text"
      },
      "source": [
        "You should now see that we are located in\"/content/Source-Code-Tutorial\" and see a path printed to your screen. If you look on the left hand size of your screen, there is a folder icon and you can click it to visually view the files and folders as you go along.\n",
        "\n",
        "Lets use the os.chdir command again to move down two folders at once,into the Source-Code-Tutorial-master folder and then into the Tutorial-1 folder.\n",
        "\n",
        "os.chdir(\"Source-Code-Tutorial-master/Tutorial-1\")\n",
        "\n",
        "print(os.getcwd()) #prints our current directory\n"
      ]
    },
    {
      "cell_type": "code",
      "metadata": {
        "id": "340Y-2jswLti",
        "colab_type": "code",
        "colab": {}
      },
      "source": [
        ""
      ],
      "execution_count": null,
      "outputs": []
    },
    {
      "cell_type": "markdown",
      "metadata": {
        "id": "JizdNZXBwLTN",
        "colab_type": "text"
      },
      "source": [
        "In this first tutorial folder, we are going to learn how to create a python script and use python to examine a fastq file that has ambiguous degenerate DNA sequences. We will also learn how to call programs in other languages from the command line using python. First, we will use the nano command to edit a file using the code below. You can either copy & paste the code, or type it out yourself.  Lines that start with a # are comments, where lines that do not start with a # are actual code. \n",
        "\n",
        "To start, lets create a python file that will print the contents of the fastq file to the command prompt. Normally in the terminal we can open a text editor like nano to create a file. In jupyter, we can just use a little \"jupyter magic\" to write a file for us!\n",
        "\n",
        "In this file, anything following a hastag (#) will represent a comment and the other information is actual code. Type the following command to magically write our code to a file and create the python script: \n",
        "\n",
        "    %%writefile python_script_1.py\n",
        "\n",
        "    with open(\"example_bad_file.fastq\", \"r\") as file: #this line opens an example fastq file\n",
        "\n",
        "        data = file.read() #this line reads the file and saves it to a variable called data\n",
        "\n",
        "        print(data)#this line prints the data\n",
        "\n",
        "\n",
        "\n",
        "\n"
      ]
    },
    {
      "cell_type": "code",
      "metadata": {
        "id": "knvL_7y-wLcT",
        "colab_type": "code",
        "colab": {}
      },
      "source": [
        ""
      ],
      "execution_count": null,
      "outputs": []
    },
    {
      "cell_type": "markdown",
      "metadata": {
        "id": "MQDF2kIjwL3B",
        "colab_type": "text"
      },
      "source": [
        "To run a python file from the command line, we would use the command:\n",
        "\n",
        "    !python python_script_1.py\n",
        "\n",
        "This will open the fastq file, read the file and save it to a variable. Then it will print the contents to your screen.\n"
      ]
    },
    {
      "cell_type": "code",
      "metadata": {
        "id": "oAMbPQy6wL_0",
        "colab_type": "code",
        "colab": {}
      },
      "source": [
        ""
      ],
      "execution_count": null,
      "outputs": []
    },
    {
      "cell_type": "markdown",
      "metadata": {
        "id": "AUpm-KY_wMIF",
        "colab_type": "text"
      },
      "source": [
        "One of the best parts about jupyter notebooks is that you can even run python code straight from the notebook too! Try just copy and pasting this code into the code block below and you should see the same result!\n",
        "\n",
        "    with open(\"example_bad_file.fastq\", \"r\") as file: #this line opens an example fastq file\n",
        "\n",
        "        data = file.read() #this line reads the file and saves it to a variable called data\n",
        "\n",
        "        print(data)#this line prints the data"
      ]
    },
    {
      "cell_type": "code",
      "metadata": {
        "id": "1BBgIopIwMRx",
        "colab_type": "code",
        "colab": {}
      },
      "source": [
        ""
      ],
      "execution_count": null,
      "outputs": []
    },
    {
      "cell_type": "markdown",
      "metadata": {
        "id": "jnZjY-GRwMaM",
        "colab_type": "text"
      },
      "source": [
        "Next, we are going to write a second python script that will help us run some code in another programming language ( Perl ) to filter reads that have different lengths of quality scores and sequences.\n",
        "\n",
        "    %%writefile python_script_2.py\n",
        "\n",
        "    import os #load the operating system package, os\n",
        "\n",
        "    os.system(\"perl filter.pl example_bad_file.fastq  > Filtered_example_bad_file.fastq \") #use the os.system function to call a perl script from the command line\n"
      ]
    },
    {
      "cell_type": "code",
      "metadata": {
        "id": "Adzy9_JewMiT",
        "colab_type": "code",
        "colab": {}
      },
      "source": [
        ""
      ],
      "execution_count": null,
      "outputs": []
    },
    {
      "cell_type": "markdown",
      "metadata": {
        "id": "GNLIOvE7wMpq",
        "colab_type": "text"
      },
      "source": [
        "To run this script, type the following into the command line: \n",
        "    \n",
        "    !python python_script_2.py\n",
        "\n",
        "We should see that the perl filtering works, and we removed a read where the sequence score and quality score  were different lengths in our file. \n"
      ]
    },
    {
      "cell_type": "code",
      "metadata": {
        "id": "3ndEWSuXwMxQ",
        "colab_type": "code",
        "colab": {}
      },
      "source": [
        ""
      ],
      "execution_count": null,
      "outputs": []
    },
    {
      "cell_type": "markdown",
      "metadata": {
        "id": "e5GqXvKawM38",
        "colab_type": "text"
      },
      "source": [
        ""
      ]
    },
    {
      "cell_type": "markdown",
      "metadata": {
        "id": "A34L8iApZqbR",
        "colab_type": "text"
      },
      "source": [
        "Next, we will make a third python script to run a sample bash script to examine if our newly created filtered file matches the content of the original or it will tell us if they are different.\n",
        "\n",
        "Type the following command:\n",
        "\n",
        "    %%writefile python_script_3.py\n",
        "    #load the operating system package, os\n",
        "    import os\n",
        "    #use the os.system function to call a perl script from the command line\n",
        "    os.system(\"./compare_files.sh example_bad_file.fastq Filtered_example_bad_file.fastq\")\n"
      ]
    },
    {
      "cell_type": "code",
      "metadata": {
        "id": "n5kJ6ZEbwM-R",
        "colab_type": "code",
        "colab": {}
      },
      "source": [
        ""
      ],
      "execution_count": null,
      "outputs": []
    },
    {
      "cell_type": "markdown",
      "metadata": {
        "id": "J79DPf-LaPSy",
        "colab_type": "text"
      },
      "source": [
        "Now lets run the python script using the following command:\n",
        "\n",
        "    !python python_script_3.py\n",
        "\n",
        "This will use this other bash file to tell us if the two files are the same, or different - indicating whether or not our trimming command from earlier actually removed any files."
      ]
    },
    {
      "cell_type": "code",
      "metadata": {
        "id": "IM60OKanaPbl",
        "colab_type": "code",
        "colab": {}
      },
      "source": [
        ""
      ],
      "execution_count": null,
      "outputs": []
    },
    {
      "cell_type": "markdown",
      "metadata": {
        "id": "MQZyEXeAaqhB",
        "colab_type": "text"
      },
      "source": [
        "Oh No! We don't have the correct permissions to run the bash file. \n",
        "\n",
        "Specific files have permissions (whether you can only read the file, or you can run it, or edit it) - and to change permissions on a file we can use the linux chmod command:\n",
        "\n",
        "    !chmod 777 compare_files.sh\n",
        "\n",
        "This will allow us to have the correct permissions. Run the command below.\n"
      ]
    },
    {
      "cell_type": "code",
      "metadata": {
        "id": "HsOrx3T0aqpv",
        "colab_type": "code",
        "colab": {}
      },
      "source": [
        ""
      ],
      "execution_count": null,
      "outputs": []
    },
    {
      "cell_type": "markdown",
      "metadata": {
        "id": "erlWv7-ya8RO",
        "colab_type": "text"
      },
      "source": [
        "Now we should be able to run our python script we created and see if you have corrected the permissions errors.\n",
        "    !python python_script_3.py"
      ]
    },
    {
      "cell_type": "code",
      "metadata": {
        "id": "_l7TEusOa8at",
        "colab_type": "code",
        "colab": {}
      },
      "source": [
        ""
      ],
      "execution_count": null,
      "outputs": []
    },
    {
      "cell_type": "markdown",
      "metadata": {
        "id": "m4FvY4-kwNEw",
        "colab_type": "text"
      },
      "source": [
        "Here you should see some output similar to the output below highlighting that these two files are different from one another:\n",
        "\n",
        "    The file \"example_bad_file.fastq\" is different from \"Filtered_example_bad_file.fastq\"\n"
      ]
    },
    {
      "cell_type": "markdown",
      "metadata": {
        "id": "zhrwIhcWbm4h",
        "colab_type": "text"
      },
      "source": [
        "Congratulations! The first half of the tutorial is done and you have learned: \n",
        "\n",
        "1) how to use a jupyter notebook\n",
        "\n",
        "2) how to write files using jupyter\n",
        "\n",
        "3) a few basic basic linux commands\n",
        "\n",
        "4) how to run python files from the command line\n",
        "\n",
        "5) how to use python to run other programs or scripts\n",
        "\n",
        "6) how to use python to read data from files\n",
        "\n",
        "7) how to download files from the internet or Github\n",
        "\n",
        "8) change file permissions &\n",
        "\n",
        "9) navigate the command prompt (moving up or down into folders) using python!\n",
        "\n",
        "In the next section of the tutorial, we will focus more on using python specific packages to process fastq files.\n"
      ]
    },
    {
      "cell_type": "markdown",
      "metadata": {
        "id": "aJdQ7vY_bfjP",
        "colab_type": "text"
      },
      "source": [
        "# Tutorial 2 - installing python packages and working with sequences"
      ]
    },
    {
      "cell_type": "markdown",
      "metadata": {
        "id": "d15GRCm6bl9x",
        "colab_type": "text"
      },
      "source": [
        "To start this second half of the tutorial, we need to move up one directory from the Tutorial-1 folder, and then down into the Tutorial-2 folder. Lets use the os.chdir() function we learned earlier to move up one folder.\n",
        "\n",
        "    os.chdir(\"..\")\n",
        "\n",
        "In programming, two periods means \"up one directory\"."
      ]
    },
    {
      "cell_type": "code",
      "metadata": {
        "id": "64FvWK5Cc1tl",
        "colab_type": "code",
        "colab": {}
      },
      "source": [
        ""
      ],
      "execution_count": null,
      "outputs": []
    },
    {
      "cell_type": "markdown",
      "metadata": {
        "id": "H3kJN96YcnG5",
        "colab_type": "text"
      },
      "source": [
        "Now that you are in the main directory, use the command again to move into the Tutorial-2 folder. Without me giving you the command, see if you can figure out how to move into the right folder. If you get stuck while programming, googling to try to find the answer is always acceptable!"
      ]
    },
    {
      "cell_type": "code",
      "metadata": {
        "id": "3iq32FL_wNMU",
        "colab_type": "code",
        "colab": {}
      },
      "source": [
        ""
      ],
      "execution_count": null,
      "outputs": []
    },
    {
      "cell_type": "markdown",
      "metadata": {
        "id": "W6xiDfu_sjIW",
        "colab_type": "text"
      },
      "source": [
        "To make sure you are in the correct folder, lets run the following command:\n",
        "\n",
        "    os.getcwd()\n",
        "    "
      ]
    },
    {
      "cell_type": "code",
      "metadata": {
        "id": "TT7QLYyVsjRt",
        "colab_type": "code",
        "colab": {}
      },
      "source": [
        "os.getcwd()"
      ],
      "execution_count": null,
      "outputs": []
    },
    {
      "cell_type": "markdown",
      "metadata": {
        "id": "81ze0Y8QsqXu",
        "colab_type": "text"
      },
      "source": [
        "You should see that you are in the following folder: \n",
        "    '/content/Source-Code-Tutorial/Source-Code-Tutorial-master/Tutorial-2'\n",
        "---\n",
        "\n"
      ]
    },
    {
      "cell_type": "markdown",
      "metadata": {
        "id": "MJqASoVJwNUM",
        "colab_type": "text"
      },
      "source": [
        "Now that we are in the Tutorial-2 folder, we’re going to learn how to install python packages in order to process fastq files.  First we’re going to learn how to trim reads on fastq files and then use a  package called pysam to extract all of the individual sequences out of a fastq file. pysam was developed for working with BAM,CRAM, or SAM formatted genetics files but will work great for our purposes of processing fastq/fasta files too. More details can be found in their documentation here: https://pysam.readthedocs.io/en/latest/api.html\n",
        "\n",
        "Run the following code from the command line to install the python package pysam: \n",
        "    pip install pysam\n"
      ]
    },
    {
      "cell_type": "code",
      "metadata": {
        "id": "aSLNlNhawNav",
        "colab_type": "code",
        "colab": {}
      },
      "source": [
        ""
      ],
      "execution_count": null,
      "outputs": []
    },
    {
      "cell_type": "markdown",
      "metadata": {
        "id": "HYLYiM_dwNhn",
        "colab_type": "text"
      },
      "source": [
        "You have installed your first package with Pip, the python package manager! You can learn more about pip here: - \n",
        "\n",
        "Next, we need to download a big fasta file that is too big to store on github. We need to make a another bash script to help us download the big file to our google colab notebook:\n",
        "\n",
        "\n",
        "    %%writefile downloader.sh\n",
        "    #!/bin/bash\n",
        "    fileid=\"1A4f8nFITTMGpRIqOdG77j9q4dowiWbZ4\"\n",
        "    filename=\"contaminated_1.fastq.gz\"\n",
        "    curl -c ./cookie -s -L \"https://drive.google.com/uc?export=download&id=${fileid}\" > /dev/null\n",
        "    curl -Lb ./cookie \"https://drive.google.com/uc?export=download&confirm=`awk '/download/ {print $NF}' ./cookie`&id=${fileid}\" -o ${filename}\n"
      ]
    },
    {
      "cell_type": "code",
      "metadata": {
        "id": "MqhOTddXwNon",
        "colab_type": "code",
        "colab": {}
      },
      "source": [
        ""
      ],
      "execution_count": null,
      "outputs": []
    },
    {
      "cell_type": "markdown",
      "metadata": {
        "id": "rzS-g6L8wNuv",
        "colab_type": "text"
      },
      "source": [
        "To run our downloader script, we need to give it executable permissions using chmod again. Do you remember the command we used last time?\n",
        "\n",
        "See if you can figure out how to add the correct permissions to this downloader file on your own. If you can't figure it out, feel free to email Joe at thoughtsuiteconsulting@gmail.com and he will get back to you =)\n",
        "\n",
        "Dont forget that since this will be a unix command, we need to start with an ! to run unix commands."
      ]
    },
    {
      "cell_type": "code",
      "metadata": {
        "id": "IH9iTjNIwN2e",
        "colab_type": "code",
        "colab": {}
      },
      "source": [
        ""
      ],
      "execution_count": null,
      "outputs": []
    },
    {
      "cell_type": "markdown",
      "metadata": {
        "id": "EQ-UqY3am1te",
        "colab_type": "text"
      },
      "source": [
        "Now that you have figured out how to add the correct permissions to the downloader file, lets run it using bash.\n",
        "\n",
        "    !bash downloader.sh"
      ]
    },
    {
      "cell_type": "code",
      "metadata": {
        "id": "XhzdWqoSm19O",
        "colab_type": "code",
        "colab": {}
      },
      "source": [
        ""
      ],
      "execution_count": null,
      "outputs": []
    },
    {
      "cell_type": "markdown",
      "metadata": {
        "id": "ovtRAHhdwN8y",
        "colab_type": "text"
      },
      "source": [
        "Now we have our large gzipped file. We need to unzip it using the following command:\n",
        "\n",
        "    !gunzip contaminated_1.fastq.gz"
      ]
    },
    {
      "cell_type": "code",
      "metadata": {
        "id": "U1ZZ3KJbwODX",
        "colab_type": "code",
        "colab": {}
      },
      "source": [
        ""
      ],
      "execution_count": null,
      "outputs": []
    },
    {
      "cell_type": "markdown",
      "metadata": {
        "id": "391Vw_a0nJIW",
        "colab_type": "text"
      },
      "source": [
        "Now that our file is unzipped, we can use python to list all of the files in our current directory by combining two commands:\n",
        "\n",
        "    os.listdir(os.getcwd())"
      ]
    },
    {
      "cell_type": "code",
      "metadata": {
        "id": "D_QfPoApnp1r",
        "colab_type": "code",
        "colab": {}
      },
      "source": [
        ""
      ],
      "execution_count": null,
      "outputs": []
    },
    {
      "cell_type": "markdown",
      "metadata": {
        "id": "qr3XNZ8Gnp83",
        "colab_type": "text"
      },
      "source": [
        "Now that you can see you have the regular fastq file (contaminated_1.fast)and not the gzipped version, lets copy our filter script into this directory after loading the shutil package using the following commands:\n",
        "\n",
        "    import shutil #loads shutil\n",
        "    shutil.copyfile(\"../Tutorial-1/filter.pl\", \"filter.pl\") \n",
        "    #copies the file from its source location, to our current folder"
      ]
    },
    {
      "cell_type": "code",
      "metadata": {
        "id": "a_Td7RuzqYRK",
        "colab_type": "code",
        "colab": {}
      },
      "source": [
        ""
      ],
      "execution_count": null,
      "outputs": []
    },
    {
      "cell_type": "code",
      "metadata": {
        "id": "9a2wT_Cynsc2",
        "colab_type": "code",
        "colab": {}
      },
      "source": [
        ""
      ],
      "execution_count": null,
      "outputs": []
    },
    {
      "cell_type": "markdown",
      "metadata": {
        "id": "MVIvt4uBoH6e",
        "colab_type": "text"
      },
      "source": [
        "Now that we have our filter script, lets use python to run it and save the output to a new filtered file using OS.system\n",
        "\n",
        "    os.system(\"perl filter.pl contaminated_1.fastq > Filtered_contaminated_1.fastq\")\n",
        "    print(\"Finished processing!\")"
      ]
    },
    {
      "cell_type": "code",
      "metadata": {
        "id": "JTT13OeXnME5",
        "colab_type": "code",
        "colab": {}
      },
      "source": [
        ""
      ],
      "execution_count": null,
      "outputs": []
    },
    {
      "cell_type": "markdown",
      "metadata": {
        "id": "nVimHlmXoaIV",
        "colab_type": "text"
      },
      "source": [
        "Now we are going to write a large python script using pysam to filter out any reads in our fastq file that have ambigious DNA code, such as K, N, or other degenerate letters using this code that I pasted below. Just remember that each line starting with a hash tag (#) is a comment that I made, helping to indicate what the lines of code are doing. This code will take a little bit of time to run because this is a big 1.3gb fastq file\n",
        "\n",
        "We can also include some jupyter magic with the %time function that allows us to track time metrics of the code:\n",
        "\n",
        "    %time\n",
        "    import pysam\n",
        "    import time\n",
        "    #use the first item in the command line following the code as the file to process\n",
        "    filename = \"Filtered_contaminated_1.fastq\"\n",
        "    #specify the output name\n",
        "    out_filename = \"clean_Filtered_contaminated_1.fastq\"\n",
        "    # ambigious = set(['M', 'D', 'R', 'N', 'K', 'Y', 'S', 'B', 'H', '-', 'V', 'W'])\n",
        "    #specify a set of good nucleotides\n",
        "    good = set([\"A\", \"C\", \"G\", \"T\"])\n",
        "    #use pysam to open the input file and output file at the same time\n",
        "    with pysam.FastxFile(\"Filtered_contaminated_1.fastq\") as fh, open(out_filename, mode='w') as fout:\n",
        "        #loop over each sequence entry in the fastq file \n",
        "        for entry in fh:\n",
        "            #set a variable for a bad nucleotide equal to false\n",
        "            found_a_bad_nuc = False\n",
        "            # print(entry.name)\n",
        "            # print(entry.sequence)\n",
        "            # print(entry.comment)\n",
        "            # print(entry.quality)\n",
        "\n",
        "            #check for ambigous bases that are not A, T, C or G\n",
        "            #by looping over every nucleotide within the sequence of the fastq file\n",
        "            for nuc in entry.sequence:\n",
        "                #check if the nucleotide in uppercase matches the good set listed above\n",
        "                if nuc.upper() not in good:\n",
        "                    #if there is a nucleotide that isn't in the good list, set our variable to true as a flag\n",
        "                    found_a_bad_nuc = True\n",
        "                    #stop going over this sequence and move to the next sequence\n",
        "                    break\n",
        "\n",
        "                #if we don't find a bad nucleotide\n",
        "                else:\n",
        "                    #go to the next step\n",
        "                    pass\n",
        "\n",
        "            #after going through a sequence, check if we found a bad nucleotide or not\n",
        "            if found_a_bad_nuc == False:\n",
        "                #if we didn't find any bad nucleotides, write the entire4 line of fastq data to the output file\n",
        "                fout.write(str(entry))\n",
        "                #add a new line at the end of the entry so the following fastq file starts on its own line\n",
        "                fout.write(\"\\n\")\n",
        "            #if we did find a bad nucleotide, pass and go to the next sequence\n",
        "            else:\n",
        "                pass\n"
      ]
    },
    {
      "cell_type": "code",
      "metadata": {
        "id": "wxuYO3rzoaTo",
        "colab_type": "code",
        "colab": {}
      },
      "source": [
        ""
      ],
      "execution_count": null,
      "outputs": []
    },
    {
      "cell_type": "markdown",
      "metadata": {
        "id": "eT4vNUEAwOKM",
        "colab_type": "text"
      },
      "source": [
        "Now we have a new file, clean_Filtered_contaminated_1.fastq that has significantly fewer reads.\n",
        "\n",
        "To see the new file this has created, lets use the ls command to print the files in our current directory. Here, we will use some special commands to also look at the sizes of the files in our current directory with the ls command. Since so many reads were removed from the file, it actually changed the size of the file too. Use the following command:\n",
        "\n",
        "    !ls -lah\n"
      ]
    },
    {
      "cell_type": "code",
      "metadata": {
        "id": "GWS1WWPnwORj",
        "colab_type": "code",
        "colab": {}
      },
      "source": [
        ""
      ],
      "execution_count": null,
      "outputs": []
    },
    {
      "cell_type": "markdown",
      "metadata": {
        "id": "y7FtLYIXwOYE",
        "colab_type": "text"
      },
      "source": [
        "So now you can see that our original contaminated_1.fastq file was 1.3gb in size, and our clean_Filtered_contaminated_1.fastq file is about 1.2gb in size."
      ]
    },
    {
      "cell_type": "markdown",
      "metadata": {
        "id": "REynjquurckV",
        "colab_type": "text"
      },
      "source": [
        "Thanks for learning throughout the tutorial! In this second half, you learned:\n",
        "\n",
        "1) how to install python packages with pip\n",
        "\n",
        "2) how to copy files with shutil\n",
        "\n",
        "3) how to unzip files\n",
        "\n",
        "4) how to process fastq files and remove degenerate DNA sequences from the file\n",
        "\n",
        "If you have any questions please feel free to contact Joe at thoughtsuiteconsulting@gmail.com "
      ]
    }
  ]
}